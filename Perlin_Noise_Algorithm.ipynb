{
 "cells": [
  {
   "cell_type": "markdown",
   "metadata": {},
   "source": [
    "[펄린노이즈1](https://m.blog.naver.com/PostView.nhn?blogId=daehuck&logNo=220457203383&proxyReferer=https%3A%2F%2Fwww.google.com%2F)  \n",
    "[펄린노이즈2](https://ko.khanacademy.org/computing/computer-programming/programming-natural-simulations/programming-noise/a/perlin-noise)  "
   ]
  },
  {
   "cell_type": "markdown",
   "metadata": {},
   "source": [
    "Perlin Noise는 Ken  Perlin에 의해 1983년에 고안된 노이즈 기법이다.  \n",
    "Perlin Noise는 절차적인 텍스쳐로 자연현상을 표현하는데 상당히 효율적이다.  "
   ]
  }
 ],
 "metadata": {
  "kernelspec": {
   "display_name": "python3.5",
   "language": "python",
   "name": "python3.5"
  },
  "language_info": {
   "codemirror_mode": {
    "name": "ipython",
    "version": 3
   },
   "file_extension": ".py",
   "mimetype": "text/x-python",
   "name": "python",
   "nbconvert_exporter": "python",
   "pygments_lexer": "ipython3",
   "version": "3.5.6"
  }
 },
 "nbformat": 4,
 "nbformat_minor": 2
}
